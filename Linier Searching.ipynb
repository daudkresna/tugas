{
 "cells": [
  {
   "cell_type": "code",
   "execution_count": 1,
   "metadata": {},
   "outputs": [
    {
     "name": "stdout",
     "output_type": "stream",
     "text": [
      "did not found\n",
      "did not found\n",
      "did not found\n",
      "did not found\n",
      "found\n",
      "1\n"
     ]
    }
   ],
   "source": [
    "#Liniear Searching\n",
    "search= 2\n",
    "mylist=[1,2,3,4,5,6]\n",
    "position=len(mylist)-1\n",
    "last=0\n",
    "found= False\n",
    "while position >= last and not found:\n",
    "    if mylist[position] == search:\n",
    "        found = True\n",
    "    else:\n",
    "        position=position-1\n",
    "    if found:\n",
    "        print('found')\n",
    "        print(position)\n",
    "    else:\n",
    "        print('did not found')"
   ]
  },
  {
   "cell_type": "code",
   "execution_count": null,
   "metadata": {},
   "outputs": [],
   "source": []
  }
 ],
 "metadata": {
  "kernelspec": {
   "display_name": "Python 3",
   "language": "python",
   "name": "python3"
  },
  "language_info": {
   "codemirror_mode": {
    "name": "ipython",
    "version": 3
   },
   "file_extension": ".py",
   "mimetype": "text/x-python",
   "name": "python",
   "nbconvert_exporter": "python",
   "pygments_lexer": "ipython3",
   "version": "3.7.1"
  }
 },
 "nbformat": 4,
 "nbformat_minor": 2
}
