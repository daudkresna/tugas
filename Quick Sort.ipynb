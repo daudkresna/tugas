{
 "cells": [
  {
   "cell_type": "code",
   "execution_count": 1,
   "metadata": {},
   "outputs": [
    {
     "name": "stdout",
     "output_type": "stream",
     "text": [
      "[100, 6, 500, 4, 56, 2, 1, 0]\n",
      "[0, 6, 500, 4, 56, 2, 1, 100]\n",
      "[0, 1, 4, 56, 2, 6, 100, 500]\n",
      "[0, 1, 2, 4, 6, 56, 100, 500]\n",
      "[0, 1, 2, 4, 6, 56, 100, 500]\n",
      "[0, 1, 2, 4, 6, 56, 100, 500]\n",
      "[0, 1, 2, 4, 6, 56, 100, 500]\n",
      "[0, 1, 2, 4, 6, 56, 100, 500]\n",
      "[0, 1, 2, 4, 6, 56, 100, 500]\n",
      "[0, 1, 2, 4, 6, 56, 100, 500]\n",
      "[0, 1, 2, 4, 6, 56, 100, 500]\n",
      "[0, 1, 2, 4, 6, 56, 100, 500]\n"
     ]
    }
   ],
   "source": [
    "#Quick Sort Pivot di akhir\n",
    "def quicksortawal(a):\n",
    "    quicksort(a,0,len(a)-1)\n",
    "    \n",
    "    \n",
    "def quicksort(a,start,end):\n",
    "    if start<end:\n",
    "        pindex = partition(a,start,end)\n",
    "        quicksort(a,start,pindex-1)\n",
    "        print(a)\n",
    "        quicksort(a,pindex+1,end)\n",
    "        print(a)\n",
    "\n",
    "        \n",
    "def partition(a,start,end):\n",
    "    pivot = a[end]\n",
    "    pindex = start\n",
    "    for i in range(start,end):\n",
    "        if (a[i]<=pivot):\n",
    "            a[i],a[pindex] = a[pindex],a[i]\n",
    "            pindex=pindex+1\n",
    "    a[pindex],a[end]=a[end],a[pindex]\n",
    "    return pindex\n",
    "\n",
    "a=[100,6,500,4,56,2,1,0]\n",
    "print(a)\n",
    "quicksortawal(a)\n",
    "print(a)"
   ]
  },
  {
   "cell_type": "code",
   "execution_count": null,
   "metadata": {},
   "outputs": [],
   "source": []
  }
 ],
 "metadata": {
  "kernelspec": {
   "display_name": "Python 3",
   "language": "python",
   "name": "python3"
  },
  "language_info": {
   "codemirror_mode": {
    "name": "ipython",
    "version": 3
   },
   "file_extension": ".py",
   "mimetype": "text/x-python",
   "name": "python",
   "nbconvert_exporter": "python",
   "pygments_lexer": "ipython3",
   "version": "3.7.1"
  }
 },
 "nbformat": 4,
 "nbformat_minor": 2
}
