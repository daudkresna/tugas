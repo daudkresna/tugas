{
 "cells": [
  {
   "cell_type": "code",
   "execution_count": 1,
   "metadata": {},
   "outputs": [
    {
     "name": "stdout",
     "output_type": "stream",
     "text": [
      "[1, 2, 3, 5, 7, 8, 9, 11, 20, 89]\n"
     ]
    }
   ],
   "source": [
    "#bubble sort menaik\n",
    "angka=[2,3,5,7,1,8,9,20,11,89]\n",
    "\n",
    "for k in range (len(angka)):\n",
    "    for i in range (len(angka)-1):\n",
    "        if angka[i] > angka[i+1]:\n",
    "            angka[i],angka[i+1]=angka[i+1],angka[i]\n",
    "print(angka)"
   ]
  },
  {
   "cell_type": "code",
   "execution_count": null,
   "metadata": {},
   "outputs": [],
   "source": []
  }
 ],
 "metadata": {
  "kernelspec": {
   "display_name": "Python 3",
   "language": "python",
   "name": "python3"
  },
  "language_info": {
   "codemirror_mode": {
    "name": "ipython",
    "version": 3
   },
   "file_extension": ".py",
   "mimetype": "text/x-python",
   "name": "python",
   "nbconvert_exporter": "python",
   "pygments_lexer": "ipython3",
   "version": "3.7.1"
  }
 },
 "nbformat": 4,
 "nbformat_minor": 2
}
