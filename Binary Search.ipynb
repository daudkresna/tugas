{
 "cells": [
  {
   "cell_type": "code",
   "execution_count": 1,
   "metadata": {},
   "outputs": [
    {
     "name": "stdout",
     "output_type": "stream",
     "text": [
      "did not found\n",
      "did not found\n",
      "did not found\n",
      "did not found\n",
      "found\n",
      "1\n"
     ]
    }
   ],
   "source": [
    "#Binary Search\n",
    "search= int(input('masukkan angka yang dicari '))\n",
    "mylist=[]\n",
    "jumlahlist = int(input('masukkan jumlah list '))\n",
    "first = 0\n",
    "while first < jumlahlist:\n",
    "    indeks = int(input('masukkan angka '))\n",
    "    mylist.append(indeks)\n",
    "    first +=1\n",
    "mylist.sort()\n",
    "first = 0\n",
    "last = len(mylist)-1\n",
    "found = False\n",
    "\n",
    "while first <= last and not found:\n",
    "    middle= (first + last) // 2\n",
    "    if mylist[middle] == search:\n",
    "        found = True\n",
    "    else:\n",
    "        if search < mylist[middle]:\n",
    "            last = middle-1\n",
    "        else:\n",
    "            first=middle+1\n",
    "    if found:\n",
    "        print('found')\n",
    "        print(middle)\n",
    "    else:\n",
    "        print('did not found')\n",
    "                             "
   ]
  },
  {
   "cell_type": "code",
   "execution_count": null,
   "metadata": {},
   "outputs": [],
   "source": []
  }
 ],
 "metadata": {
  "kernelspec": {
   "display_name": "Python 3",
   "language": "python",
   "name": "python3"
  },
  "language_info": {
   "codemirror_mode": {
    "name": "ipython",
    "version": 3
   },
   "file_extension": ".py",
   "mimetype": "text/x-python",
   "name": "python",
   "nbconvert_exporter": "python",
   "pygments_lexer": "ipython3",
   "version": "3.7.1"
  }
 },
 "nbformat": 4,
 "nbformat_minor": 2
}
