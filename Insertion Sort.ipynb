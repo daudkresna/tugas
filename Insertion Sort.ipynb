{
 "cells": [
  {
   "cell_type": "code",
   "execution_count": 1,
   "metadata": {},
   "outputs": [
    {
     "name": "stdout",
     "output_type": "stream",
     "text": [
      "[2, 5, 4, 6, 1, 3]\n",
      "[2, 4, 5, 6, 1, 3]\n",
      "[2, 4, 5, 6, 1, 3]\n",
      "[1, 2, 4, 5, 6, 3]\n",
      "[1, 2, 3, 4, 5, 6]\n"
     ]
    }
   ],
   "source": [
    "#insertion sort terkecil\n",
    "a = [5,2,4,6,1,3]\n",
    "for i in range (1,len(a)):\n",
    "    value = a[i]\n",
    "    hole = i\n",
    "    while (hole> 0 and a[hole-1] > value):\n",
    "        a[hole] = a[hole-1]\n",
    "        hole = hole-1\n",
    "    a[hole] = value\n",
    "    print(a)"
   ]
  },
  {
   "cell_type": "code",
   "execution_count": null,
   "metadata": {},
   "outputs": [],
   "source": []
  }
 ],
 "metadata": {
  "kernelspec": {
   "display_name": "Python 3",
   "language": "python",
   "name": "python3"
  },
  "language_info": {
   "codemirror_mode": {
    "name": "ipython",
    "version": 3
   },
   "file_extension": ".py",
   "mimetype": "text/x-python",
   "name": "python",
   "nbconvert_exporter": "python",
   "pygments_lexer": "ipython3",
   "version": "3.7.1"
  }
 },
 "nbformat": 4,
 "nbformat_minor": 2
}
