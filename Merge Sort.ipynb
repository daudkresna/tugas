{
 "cells": [
  {
   "cell_type": "code",
   "execution_count": 1,
   "metadata": {},
   "outputs": [
    {
     "name": "stdout",
     "output_type": "stream",
     "text": [
      "[17, 20, 26, 31, 44, 52, 55, 77, 93, 99, 100]\n"
     ]
    }
   ],
   "source": [
    "#MERGE SORT\n",
    "def mergesort(a):\n",
    "    n = len(a)\n",
    "    if (n<2):\n",
    "        return\n",
    "    mid = len(a)//2\n",
    "    left = a[:mid]\n",
    "    right = a[mid:]\n",
    "    mergesort(left)\n",
    "    mergesort(right)\n",
    "    i=0\n",
    "    j=0\n",
    "    k=0\n",
    "    \n",
    "    while i<len(left) and j <len(right):\n",
    "        if left[i] < right[j]:\n",
    "            a[k]=left[i]\n",
    "            i=i+1\n",
    "            \n",
    "        else:\n",
    "            a[k]=right[j]\n",
    "            j=j+1\n",
    "        k=k+1\n",
    "        \n",
    "    while j <len(right):\n",
    "        a[k]=right[j]\n",
    "        j=j+1\n",
    "        k=k+1\n",
    "    while i <len(left):\n",
    "        a[k]=left[i]\n",
    "        i=i+1\n",
    "        k=k+1\n",
    "        \n",
    "a=[52,26,93,17,99,77,31,44,55,20,100]\n",
    "mergesort(a)\n",
    "print(a)"
   ]
  },
  {
   "cell_type": "code",
   "execution_count": null,
   "metadata": {},
   "outputs": [],
   "source": []
  }
 ],
 "metadata": {
  "kernelspec": {
   "display_name": "Python 3",
   "language": "python",
   "name": "python3"
  },
  "language_info": {
   "codemirror_mode": {
    "name": "ipython",
    "version": 3
   },
   "file_extension": ".py",
   "mimetype": "text/x-python",
   "name": "python",
   "nbconvert_exporter": "python",
   "pygments_lexer": "ipython3",
   "version": "3.7.1"
  }
 },
 "nbformat": 4,
 "nbformat_minor": 2
}
